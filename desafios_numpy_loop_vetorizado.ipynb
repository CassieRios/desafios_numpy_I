{
 "cells": [
  {
   "cell_type": "markdown",
   "id": "6e6c3564",
   "metadata": {},
   "source": [
    "# Desafios Numpy - Loop Vetorizado\n",
    "\n",
    "\n",
    "A ideia de loop vetorizado é substituir for explícitos por operações de NumPy, aproveitando que essas bibliotecas processam arrays em baixo nível (C/Fortran), deixando o código mais rápido e legível."
   ]
  },
  {
   "cell_type": "markdown",
   "id": "060e24e1",
   "metadata": {},
   "source": [
    "\n",
    "👉 Sugestão: tente sempre com NumPy (np.where, broadcasting, slicing, máscaras booleanas, np.add.outer, np.cumsum, etc)."
   ]
  },
  {
   "cell_type": "code",
   "execution_count": 1,
   "id": "93964407",
   "metadata": {},
   "outputs": [],
   "source": [
    "import numpy as np\n",
    "from numpy.lib.stride_tricks import sliding_window_view"
   ]
  },
  {
   "cell_type": "code",
   "execution_count": 2,
   "id": "5f7eae0d",
   "metadata": {},
   "outputs": [
    {
     "data": {
      "text/plain": [
       "array([65, 63, 29, 17, 90, 64, 39, 60,  5, 53], dtype=int32)"
      ]
     },
     "execution_count": 2,
     "metadata": {},
     "output_type": "execute_result"
    }
   ],
   "source": [
    "array_random_int = np.random.randint(1, 100, 10)\n",
    "array_random_int"
   ]
  },
  {
   "cell_type": "markdown",
   "id": "4296371c",
   "metadata": {},
   "source": [
    "## 1. Soma acumulada de uma série\n",
    "Dado um array `np.arange(1, 11)`, calcule a soma acumulada ([1, 3, 6, 10, ...]) sem usar laço for."
   ]
  },
  {
   "cell_type": "code",
   "execution_count": 3,
   "id": "9dd3a9d6",
   "metadata": {},
   "outputs": [
    {
     "data": {
      "text/plain": [
       "(array([ 1,  3,  6, 10, 15, 21, 28, 36, 45, 55]),\n",
       " array([ 1.,  3.,  6., 10., 15., 21., 28., 36., 45., 55.]))"
      ]
     },
     "execution_count": 3,
     "metadata": {},
     "output_type": "execute_result"
    }
   ],
   "source": [
    "array = np.arange(1,11)\n",
    "# Usando a função\n",
    "soma_acumulada_f = array.cumsum()\n",
    "# Reproduzindo com matriz\n",
    "soma_acumulada_s = np.multiply(np.tri(len(array)), array).sum(axis=1)\n",
    "soma_acumulada_f, soma_acumulada_s"
   ]
  },
  {
   "cell_type": "markdown",
   "id": "c6a3fcb5",
   "metadata": {},
   "source": [
    "⚡ **Resposta otimizada**  \n",
    "✅ A versão com `cumsum` já é a forma mais direta e eficiente. Sua versão com matriz é criativa, mas menos legível e mais custosa."
   ]
  },
  {
   "cell_type": "code",
   "execution_count": 4,
   "id": "e291916c",
   "metadata": {},
   "outputs": [
    {
     "data": {
      "text/plain": [
       "array([ 1,  3,  6, 10, 15, 21, 28, 36, 45, 55])"
      ]
     },
     "execution_count": 4,
     "metadata": {},
     "output_type": "execute_result"
    }
   ],
   "source": [
    "array = np.arange(1, 11)\n",
    "# cumsum faz a soma acumulada em C, muito rápido e legível\n",
    "soma_acumulada = array.cumsum()\n",
    "soma_acumulada"
   ]
  },
  {
   "cell_type": "markdown",
   "id": "b07afda2",
   "metadata": {},
   "source": [
    "## 2. Diferença entre elementos consecutivos\n",
    "Crie um array de inteiros aleatórios e calcule a diferença entre cada elemento e o anterior."
   ]
  },
  {
   "cell_type": "code",
   "execution_count": 5,
   "id": "a4ea29e7",
   "metadata": {},
   "outputs": [
    {
     "data": {
      "text/plain": [
       "(array([ -2, -34, -12,  73, -26, -25,  21, -55,  48], dtype=int32),\n",
       " array([ -2, -34, -12,  73, -26, -25,  21, -55,  48], dtype=int32))"
      ]
     },
     "execution_count": 5,
     "metadata": {},
     "output_type": "execute_result"
    }
   ],
   "source": [
    "diferencas_s = array_random_int[1:] - array_random_int[:-1]\n",
    "# Usando função\n",
    "diferencas_f = np.diff(array_random_int)\n",
    "diferencas_s, diferencas_f"
   ]
  },
  {
   "cell_type": "markdown",
   "id": "a6b51e30",
   "metadata": {},
   "source": [
    "⚡ **Resposta otimizada**  \n",
    "✅ Sua versão com slicing já está correta e vetorizada. `np.diff` é equivalente, mas mais legível."
   ]
  },
  {
   "cell_type": "code",
   "execution_count": 6,
   "id": "ccfef050",
   "metadata": {},
   "outputs": [
    {
     "data": {
      "text/plain": [
       "array([ -2, -34, -12,  73, -26, -25,  21, -55,  48], dtype=int32)"
      ]
     },
     "execution_count": 6,
     "metadata": {},
     "output_type": "execute_result"
    }
   ],
   "source": [
    "# slicing vetorizado\n",
    "diferencas = array_random_int[1:] - array_random_int[:-1]\n",
    "# versão mais legível com função pronta\n",
    "diferencas_f = np.diff(array_random_int)\n",
    "diferencas_f"
   ]
  },
  {
   "cell_type": "markdown",
   "id": "fb7633ac",
   "metadata": {},
   "source": [
    "## 3. Normalização de um vetor\n",
    "Dado um array, normalize todos os valores para estarem entre 0 e 1."
   ]
  },
  {
   "cell_type": "code",
   "execution_count": 7,
   "id": "d63d1971",
   "metadata": {},
   "outputs": [
    {
     "data": {
      "text/plain": [
       "array([0.71, 0.68, 0.28, 0.14, 1.  , 0.69, 0.4 , 0.65, 0.  , 0.56])"
      ]
     },
     "execution_count": 7,
     "metadata": {},
     "output_type": "execute_result"
    }
   ],
   "source": [
    "normalizacao_s = (array_random_int - min(array_random_int)) / (max(array_random_int) - min(array_random_int))\n",
    "np.round(normalizacao_s, 2)"
   ]
  },
  {
   "cell_type": "markdown",
   "id": "faa3e670",
   "metadata": {},
   "source": [
    "⚡ **Resposta otimizada**  \n",
    "⚠️ Use sempre `.min()` e `.max()` do NumPy em vez de `min`/`max` do Python. São mais rápidos e mantêm o tipo do array.\n",
    "Além disso, adicione um guardinha contra divisão por zero."
   ]
  },
  {
   "cell_type": "code",
   "execution_count": 8,
   "id": "2ef36e2e",
   "metadata": {},
   "outputs": [
    {
     "data": {
      "text/plain": [
       "(np.int32(5),\n",
       " np.int32(90),\n",
       " np.int32(85),\n",
       " array([0.71, 0.68, 0.28, 0.14, 1.  , 0.69, 0.4 , 0.65, 0.  , 0.56]))"
      ]
     },
     "execution_count": 8,
     "metadata": {},
     "output_type": "execute_result"
    }
   ],
   "source": [
    "# A normalização min–max leva todos os valores para o intervalo [0, 1]:\n",
    "# (x - min) / (max - min)\n",
    "# Use SEMPRE os métodos do NumPy (.min() / .max()) em vez de min/max do Python.\n",
    "# - Eles operam em C sobre o buffer do array (sem converter para lista).\n",
    "# - São mais rápidos e mantêm o tipo/shape corretos.\n",
    "\n",
    "x_min = array_random_int.min()   # escalar NumPy (mais rápido)\n",
    "x_max = array_random_int.max()\n",
    "\n",
    "den = x_max - x_min              # amplitude (ptp). Poderíamos usar array_random_int.ptp()\n",
    "\n",
    "# Guardinha: se todos os valores forem iguais, den == 0.\n",
    "# Evita divisão por zero, retornando zeros (ou poderíamos retornar NaN, a depender do caso).\n",
    "normalizacao = np.where(den == 0, 0.0, (array_random_int - x_min) / den)\n",
    "\n",
    "# Observação:\n",
    "# Mesmo que array_random_int seja int, a divisão gera float (dtype float64 por padrão).\n",
    "x_min, x_max, den, np.round(normalizacao, 2)"
   ]
  },
  {
   "cell_type": "markdown",
   "id": "20ee7af1",
   "metadata": {},
   "source": [
    "## 4. Contagem condicional\n",
    "Dado um array de inteiros, conte quantos são pares e quantos são ímpares sem usar loops."
   ]
  },
  {
   "cell_type": "code",
   "execution_count": 9,
   "id": "bad6b8ee",
   "metadata": {},
   "outputs": [
    {
     "name": "stdout",
     "output_type": "stream",
     "text": [
      "Pare: 3\n",
      "Ímpares: 7\n"
     ]
    }
   ],
   "source": [
    "print(f\"Pare: {np.sum(array_random_int % 2 == 0)}\\nÍmpares: {np.sum(array_random_int % 2 == 1)}\")"
   ]
  },
  {
   "cell_type": "markdown",
   "id": "badafc4d",
   "metadata": {},
   "source": [
    "⚡ **Resposta otimizada**  \n",
    "✅ Sua solução já está ótima e vetorizada. Apenas separe em variáveis em vez de print direto para reutilização."
   ]
  },
  {
   "cell_type": "code",
   "execution_count": 10,
   "id": "5932e222",
   "metadata": {},
   "outputs": [
    {
     "data": {
      "text/plain": [
       "(np.int64(3), np.int64(7))"
      ]
     },
     "execution_count": 10,
     "metadata": {},
     "output_type": "execute_result"
    }
   ],
   "source": [
    "pares = np.sum(array_random_int % 2 == 0)\n",
    "impares = np.sum(array_random_int % 2 == 1)\n",
    "pares, impares"
   ]
  },
  {
   "cell_type": "markdown",
   "id": "38fdd7bb",
   "metadata": {},
   "source": [
    "## 5. Máscara booleana\n",
    "Dado um array `np.arange(20)`, filtre apenas os números múltiplos de 3 sem loop."
   ]
  },
  {
   "cell_type": "code",
   "execution_count": 11,
   "id": "56e92cc0",
   "metadata": {},
   "outputs": [
    {
     "data": {
      "text/plain": [
       "array([ 0,  3,  6,  9, 12, 15, 18])"
      ]
     },
     "execution_count": 11,
     "metadata": {},
     "output_type": "execute_result"
    }
   ],
   "source": [
    "array = np.arange(20)\n",
    "multiplos_de_3 = array[array % 3 == 0]\n",
    "multiplos_de_3"
   ]
  },
  {
   "cell_type": "markdown",
   "id": "08f2414d",
   "metadata": {},
   "source": [
    "⚡ **Resposta otimizada**  \n",
    "✅ Sua resposta já está correta, vetorizada e eficiente."
   ]
  },
  {
   "cell_type": "code",
   "execution_count": 12,
   "id": "e41a12ad",
   "metadata": {},
   "outputs": [
    {
     "data": {
      "text/plain": [
       "array([ 0,  3,  6,  9, 12, 15, 18])"
      ]
     },
     "execution_count": 12,
     "metadata": {},
     "output_type": "execute_result"
    }
   ],
   "source": [
    "array = np.arange(20)\n",
    "multiplos_de_3 = array[array % 3 == 0]\n",
    "multiplos_de_3"
   ]
  },
  {
   "cell_type": "markdown",
   "id": "2e1f4aa4",
   "metadata": {},
   "source": [
    "## 6. Produto cartesiano vetorizado\n",
    "Dadas duas listas [1, 2, 3] e [10, 20, 30], gere todas as combinações possíveis de soma de forma vetorizada."
   ]
  },
  {
   "cell_type": "code",
   "execution_count": 13,
   "id": "c85ec28d",
   "metadata": {},
   "outputs": [
    {
     "data": {
      "text/plain": [
       "array([[11, 12, 13],\n",
       "       [21, 22, 23],\n",
       "       [31, 32, 33]])"
      ]
     },
     "execution_count": 13,
     "metadata": {},
     "output_type": "execute_result"
    }
   ],
   "source": [
    "produto_cartesiano = [1, 2, 3] + np.array([[10, 20, 30]]*len([1, 2, 3])).T\n",
    "produto_cartesiano"
   ]
  },
  {
   "cell_type": "markdown",
   "id": "ddbb95fa",
   "metadata": {},
   "source": [
    "⚡ **Resposta otimizada**  \n",
    "❌ A solução original não gera um verdadeiro produto cartesiano. Use `np.add.outer` ou broadcasting explícito."
   ]
  },
  {
   "cell_type": "code",
   "execution_count": 14,
   "id": "8a2f437d",
   "metadata": {},
   "outputs": [
    {
     "data": {
      "text/plain": [
       "(array([[11, 21, 31],\n",
       "        [12, 22, 32],\n",
       "        [13, 23, 33]]),\n",
       " array([[11, 21, 31],\n",
       "        [12, 22, 32],\n",
       "        [13, 23, 33]]),\n",
       " array([11, 21, 31, 12, 22, 32, 13, 23, 33]))"
      ]
     },
     "execution_count": 14,
     "metadata": {},
     "output_type": "execute_result"
    }
   ],
   "source": [
    "a = np.array([1, 2, 3])\n",
    "b = np.array([10, 20, 30])\n",
    "\n",
    "# np.add.outer faz: resultado[i, j] = a[i] + b[j]\n",
    "# Shape: (len(a), len(b)) → (3, 3)\n",
    "produto_cartesiano = np.add.outer(a, b)\n",
    "\n",
    "# Equivalente por broadcasting explícito:\n",
    "# a[:, None] tem shape (3, 1)\n",
    "# b[None, :] tem shape (1, 3)\n",
    "# A soma \"espalha\" para (3, 3) gerando todas as combinações.\n",
    "produto_cartesiano_alt = a[:, None] + b[None, :]\n",
    "\n",
    "# Se você quiser um vetor 1D com todas as somas (em vez de matriz 2D),\n",
    "# pode \"achatar\" com ravel():\n",
    "todas_as_somas = produto_cartesiano.ravel()\n",
    "\n",
    "# Por que a versão original estava incorreta?\n",
    "# Ela somava uma lista [1,2,3] a um array modelado, produzindo\n",
    "# broadcasting inesperado e não o produto cartesiano de somas.\n",
    "produto_cartesiano, produto_cartesiano_alt, todas_as_somas"
   ]
  },
  {
   "cell_type": "markdown",
   "id": "b57fa241",
   "metadata": {},
   "source": [
    "## 7. Distância euclidiana entre pontos\n",
    "Dada uma matriz n x 2 representando coordenadas (x, y), calcule todas as distâncias euclidianas entre os pontos (sem loop duplo)."
   ]
  },
  {
   "cell_type": "code",
   "execution_count": 15,
   "id": "44e72167",
   "metadata": {},
   "outputs": [
    {
     "data": {
      "text/plain": [
       "(array([[4, 3],\n",
       "        [1, 2],\n",
       "        [3, 1],\n",
       "        [2, 2],\n",
       "        [0, 4],\n",
       "        [3, 4],\n",
       "        [4, 2],\n",
       "        [4, 4]], dtype=int32),\n",
       " array([3.1623, 2.2361, 1.4142, 2.8284, 3.    , 2.2361, 2.    ]),\n",
       " array([3.1623, 2.2361, 1.4142, 2.8284, 3.    , 2.2361, 2.    ]))"
      ]
     },
     "execution_count": 15,
     "metadata": {},
     "output_type": "execute_result"
    }
   ],
   "source": [
    "matrix = np.random.randint(0,5,16).reshape(8,2)\n",
    "# Com slicing\n",
    "distancias_euclidianas_s = np.sqrt(np.sum(((matrix[1:] - matrix[:-1])**2), axis=1))\n",
    "# Com função própria\n",
    "distancias_euclidianas_f = np.linalg.norm(np.diff(matrix, axis=0), axis=1)\n",
    "matrix, np.round(distancias_euclidianas_s, 4), np.round(distancias_euclidianas_f, 4)"
   ]
  },
  {
   "cell_type": "markdown",
   "id": "ac3a5723",
   "metadata": {},
   "source": [
    "⚡ **Resposta otimizada**  \n",
    "❌ Seu código calcula apenas distâncias entre consecutivos. Para todas as distâncias (matriz n x n), use broadcasting."
   ]
  },
  {
   "cell_type": "code",
   "execution_count": 16,
   "id": "4c9ad5ea",
   "metadata": {},
   "outputs": [
    {
     "data": {
      "text/plain": [
       "(array([[ 0, 10,  5, 16, 20, 17, 20,  5],\n",
       "        [10,  0,  5, 18, 10,  1,  2,  5],\n",
       "        [ 5,  5,  0,  5,  5, 10,  9,  0],\n",
       "        [16, 18,  5,  0,  4, 25, 20,  5],\n",
       "        [20, 10,  5,  4,  0, 13,  8,  5],\n",
       "        [17,  1, 10, 25, 13,  0,  1, 10],\n",
       "        [20,  2,  9, 20,  8,  1,  0,  9],\n",
       "        [ 5,  5,  0,  5,  5, 10,  9,  0]]),\n",
       " array([[0.    , 3.1623, 2.2361, 4.    , 4.4721, 4.1231, 4.4721, 2.2361],\n",
       "        [3.1623, 0.    , 2.2361, 4.2426, 3.1623, 1.    , 1.4142, 2.2361],\n",
       "        [2.2361, 2.2361, 0.    , 2.2361, 2.2361, 3.1623, 3.    , 0.    ],\n",
       "        [4.    , 4.2426, 2.2361, 0.    , 2.    , 5.    , 4.4721, 2.2361],\n",
       "        [4.4721, 3.1623, 2.2361, 2.    , 0.    , 3.6056, 2.8284, 2.2361],\n",
       "        [4.1231, 1.    , 3.1623, 5.    , 3.6056, 0.    , 1.    , 3.1623],\n",
       "        [4.4721, 1.4142, 3.    , 4.4721, 2.8284, 1.    , 0.    , 3.    ],\n",
       "        [2.2361, 2.2361, 0.    , 2.2361, 2.2361, 3.1623, 3.    , 0.    ]]))"
      ]
     },
     "execution_count": 16,
     "metadata": {},
     "output_type": "execute_result"
    }
   ],
   "source": [
    "# Matriz n x 2 com coordenadas (x, y)\n",
    "matrix = np.random.randint(0, 5, 16).reshape(8, 2)  # n=8 pontos\n",
    "\n",
    "# Queremos a matriz de distâncias (n x n), onde D[i, j] = ||p_i - p_j||.\n",
    "# 1) Expandimos dimensões para preparar o broadcasting:\n",
    "#    - matrix[:, None, :] → shape (n, 1, 2)\n",
    "#    - matrix[None, :, :] → shape (1, n, 2)\n",
    "# 2) A subtração produz um tensor (n, n, 2) com todos os pares de diferenças.\n",
    "# 3) Elevamos ao quadrado, somamos no eixo das coordenadas (axis=2) e aplicamos sqrt.\n",
    "\n",
    "diffs = matrix[:, None, :] - matrix[None, :, :]  # (n, n, 2)\n",
    "sq_dists = (diffs ** 2).sum(axis=2)              # (n, n) — distâncias ao quadrado\n",
    "distancias = np.sqrt(sq_dists)                   # (n, n) — distâncias euclidianas\n",
    "\n",
    "# Notas:\n",
    "# - A diagonal é zero (distância do ponto para ele mesmo).\n",
    "# - Complexidade de memória/tempo é O(n^2). Para n muito grande,\n",
    "#   considere estratégias por blocos ou funções especializadas (ex.: scipy.spatial.distance.cdist).\n",
    "# - Se você só quer a parte superior da matriz (sem duplicar pares), use np.triu_indices.\n",
    "sq_dists, np.round(distancias, 4)"
   ]
  },
  {
   "cell_type": "markdown",
   "id": "03f12513",
   "metadata": {},
   "source": [
    "## 8. Frequência de valores\n",
    "Dado um array aleatório de inteiros entre 0 e 9, conte quantas vezes cada número aparece (sem for)."
   ]
  },
  {
   "cell_type": "code",
   "execution_count": 17,
   "id": "1c0f1cd8",
   "metadata": {},
   "outputs": [
    {
     "data": {
      "text/plain": [
       "(array([0, 4, 7, ..., 1, 7, 7], shape=(1000000,), dtype=int32),\n",
       " array([0, 1, 2, 3, 4, 5, 6, 7, 8, 9], dtype=int32),\n",
       " [100493, 100018, 99998, 99657, 100633, 100027, 99682, 100165, 99445, 99882])"
      ]
     },
     "execution_count": 17,
     "metadata": {},
     "output_type": "execute_result"
    }
   ],
   "source": [
    "array = np.random.randint(0,10, 1000000)\n",
    "unicos = np.unique(array)\n",
    "frequencia_s = [np.count_nonzero(array == n) for n in unicos]\n",
    "array, unicos, frequencia_s"
   ]
  },
  {
   "cell_type": "markdown",
   "id": "d7d7a7f4",
   "metadata": {},
   "source": [
    "⚡ **Resposta otimizada**  \n",
    "❌ Evite `for`. Use `np.unique(..., return_counts=True)` ou, quando os valores forem pequenos, `np.bincount`."
   ]
  },
  {
   "cell_type": "code",
   "execution_count": 18,
   "id": "366dc557",
   "metadata": {},
   "outputs": [
    {
     "data": {
      "text/plain": [
       "(array([4, 6, 9, ..., 4, 6, 5], shape=(1000000,), dtype=int32),\n",
       " array([0, 1, 2, 3, 4, 5, 6, 7, 8, 9], dtype=int32),\n",
       " array([100345, 100034, 100041,  99385, 100197,  99765,  99688, 100005,\n",
       "        100207, 100333]),\n",
       " array([100345, 100034, 100041,  99385, 100197,  99765,  99688, 100005,\n",
       "        100207, 100333]),\n",
       " array([0, 1, 2, 3, 4, 5, 6, 7, 8, 9]))"
      ]
     },
     "execution_count": 18,
     "metadata": {},
     "output_type": "execute_result"
    }
   ],
   "source": [
    "# Array de inteiros em [0, 9]\n",
    "array = np.random.randint(0, 10, 1_000_000)\n",
    "\n",
    "# Maneira direta, vetorizada e idiomática:\n",
    "# unique_vals → os valores únicos encontrados\n",
    "# counts      → quantas vezes cada um aparece (na mesma ordem)\n",
    "unique_vals, counts = np.unique(array, return_counts=True)\n",
    "\n",
    "# Quando você conhece previamente que os valores são pequenos e não-negativos,\n",
    "# np.bincount costuma ser AINDA mais rápido:\n",
    "counts_fast = np.bincount(array, minlength=10)  # retorna vetor de contagens de 0..9\n",
    "# Se quiser os \"valores\" explícitos junto, você mesmo cria:\n",
    "vals_fast = np.arange(counts_fast.size)         # [0, 1, ..., 9]\n",
    "\n",
    "# Observação de performance/memória:\n",
    "# Arrays com 100 milhões de elementos (~100_000_000) podem consumir muita RAM (≈800 MB para float64).\n",
    "# Aqui usei 1_000_000 para manter o exemplo enxuto e rápido.\n",
    "array, unique_vals, counts, counts_fast, vals_fast"
   ]
  },
  {
   "cell_type": "markdown",
   "id": "2a4e8cc4",
   "metadata": {},
   "source": [
    "## 9. Substituição condicional\n",
    "Dado um array de notas [5, 7, 9, 3, 10], transforme em APROVADO se ≥ 7, senão REPROVADO, sem loop."
   ]
  },
  {
   "cell_type": "code",
   "execution_count": 19,
   "id": "fe19f7b8",
   "metadata": {},
   "outputs": [
    {
     "data": {
      "text/plain": [
       "array(['Reprovado', 'Aprovado', 'Aprovado', 'Reprovado', 'Aprovado'],\n",
       "      dtype='<U13')"
      ]
     },
     "execution_count": 19,
     "metadata": {},
     "output_type": "execute_result"
    }
   ],
   "source": [
    "notas = np.array([5, 7, 9, 3, 10])\n",
    "situacao = np.array([\"Não calculado\"]*5)\n",
    "mask = notas >= 7\n",
    "situacao[mask] = 'Aprovado'\n",
    "situacao[~mask] = 'Reprovado'\n",
    "situacao"
   ]
  },
  {
   "cell_type": "markdown",
   "id": "a20a56b3",
   "metadata": {},
   "source": [
    "⚡ **Resposta otimizada**  \n",
    "⚠️ Use `np.where` diretamente, mais legível e vetorizado."
   ]
  },
  {
   "cell_type": "code",
   "execution_count": 20,
   "id": "62de78a6",
   "metadata": {},
   "outputs": [
    {
     "data": {
      "text/plain": [
       "array(['Reprovado', 'Aprovado', 'Aprovado', 'Reprovado', 'Aprovado'],\n",
       "      dtype='<U9')"
      ]
     },
     "execution_count": 20,
     "metadata": {},
     "output_type": "execute_result"
    }
   ],
   "source": [
    "notas = np.array([5, 7, 9, 3, 10])\n",
    "\n",
    "# np.where(cond, valor_se_True, valor_se_False) aplica elemento a elemento.\n",
    "# Aqui a condição é (notas >= 7).\n",
    "# O resultado é um array de strings (dtype <U... / object), pois os ramos são textos.\n",
    "situacao = np.where(notas >= 7, \"Aprovado\", \"Reprovado\")\n",
    "\n",
    "# Vantagens:\n",
    "# - Não precisa criar um array de saída e sobrescrever com máscaras separadas.\n",
    "# - Código mais legível e \"declarativo\".\n",
    "# - 100% vetorizado: sem laços Python.\n",
    "situacao"
   ]
  },
  {
   "cell_type": "markdown",
   "id": "3f211433",
   "metadata": {},
   "source": [
    "## 10. Média móvel vetorizada\n",
    "Dado um array de 100 números, calcule a média móvel de janela 5 de forma vetorizada."
   ]
  },
  {
   "cell_type": "code",
   "execution_count": 21,
   "id": "0c0a9b8e",
   "metadata": {},
   "outputs": [
    {
     "data": {
      "text/plain": [
       "(array([0.2, 0.2, 0.2, 0.2, 0.2]),\n",
       " array([3, 1, 3, 4, 3, 4, 4, 3, 2, 3, 4, 2, 4, 4, 4, 2, 1, 1, 2, 0, 0, 4,\n",
       "        4, 2, 3, 3, 4, 1, 2, 0, 3, 0, 2, 3, 4, 0, 3, 0, 4, 2, 2, 4, 2, 1,\n",
       "        0, 2, 2, 1, 3, 3, 0, 0, 3, 3, 0, 2, 2, 0, 4, 4, 1, 0, 0, 4, 2, 4,\n",
       "        1, 0, 0, 1, 3, 1, 2, 0, 0, 1, 4, 0, 4, 0, 3, 1, 3, 2, 4, 1, 2, 2,\n",
       "        3, 3, 0, 0, 4, 4, 2, 1, 0, 2, 4, 1], dtype=int32),\n",
       " array([2.8, 3. , 3.6, 3.6, 3.2, 3.2, 3.2, 2.8, 3. , 3.4, 3.6, 3.2, 3. ,\n",
       "        2.4, 2. , 1.2, 0.8, 1.4, 2. , 2. , 2.6, 3.2, 3.2, 2.6, 2.6, 2. ,\n",
       "        2. , 1.2, 1.4, 1.6, 2.4, 1.8, 2.4, 2. , 2.2, 1.8, 2.2, 2.4, 2.8,\n",
       "        2.2, 1.8, 1.8, 1.4, 1.2, 1.6, 2.2, 1.8, 1.4, 1.8, 1.8, 1.2, 1.6,\n",
       "        2. , 1.4, 1.6, 2.4, 2.2, 1.8, 1.8, 1.8, 1.4, 2. , 2.2, 2.2, 1.4,\n",
       "        1.2, 1. , 1. , 1.4, 1.4, 1.2, 0.8, 1.4, 1. , 1.8, 1.8, 2.2, 1.6,\n",
       "        2.2, 1.8, 2.6, 2.2, 2.4, 2.2, 2.4, 2.2, 2. , 1.6, 2. , 2.2, 2. ,\n",
       "        2.2, 2.2, 1.8, 1.8, 1.6]),\n",
       " array([2.8, 3. , 3.6, 3.6, 3.2, 3.2, 3.2, 2.8, 3. , 3.4, 3.6, 3.2, 3. ,\n",
       "        2.4, 2. , 1.2, 0.8, 1.4, 2. , 2. , 2.6, 3.2, 3.2, 2.6, 2.6, 2. ,\n",
       "        2. , 1.2, 1.4, 1.6, 2.4, 1.8, 2.4, 2. , 2.2, 1.8, 2.2, 2.4, 2.8,\n",
       "        2.2, 1.8, 1.8, 1.4, 1.2, 1.6, 2.2, 1.8, 1.4, 1.8, 1.8, 1.2, 1.6,\n",
       "        2. , 1.4, 1.6, 2.4, 2.2, 1.8, 1.8, 1.8, 1.4, 2. , 2.2, 2.2, 1.4,\n",
       "        1.2, 1. , 1. , 1.4, 1.4, 1.2, 0.8, 1.4, 1. , 1.8, 1.8, 2.2, 1.6,\n",
       "        2.2, 1.8, 2.6, 2.2, 2.4, 2.2, 2.4, 2.2, 2. , 1.6, 2. , 2.2, 2. ,\n",
       "        2.2, 2.2, 1.8, 1.8, 1.6]),\n",
       " array([2.8, 3. , 3.6, 3.6, 3.2, 3.2, 3.2, 2.8, 3. , 3.4, 3.6, 3.2, 3. ,\n",
       "        2.4, 2. , 1.2, 0.8, 1.4, 2. , 2. , 2.6, 3.2, 3.2, 2.6, 2.6, 2. ,\n",
       "        2. , 1.2, 1.4, 1.6, 2.4, 1.8, 2.4, 2. , 2.2, 1.8, 2.2, 2.4, 2.8,\n",
       "        2.2, 1.8, 1.8, 1.4, 1.2, 1.6, 2.2, 1.8, 1.4, 1.8, 1.8, 1.2, 1.6,\n",
       "        2. , 1.4, 1.6, 2.4, 2.2, 1.8, 1.8, 1.8, 1.4, 2. , 2.2, 2.2, 1.4,\n",
       "        1.2, 1. , 1. , 1.4, 1.4, 1.2, 0.8, 1.4, 1. , 1.8, 1.8, 2.2, 1.6,\n",
       "        2.2, 1.8, 2.6, 2.2, 2.4, 2.2, 2.4, 2.2, 2. , 1.6, 2. , 2.2, 2. ,\n",
       "        2.2, 2.2, 1.8, 1.8, 1.6]))"
      ]
     },
     "execution_count": 21,
     "metadata": {},
     "output_type": "execute_result"
    }
   ],
   "source": [
    "janela = np.ones(5) / 5 # média móvel de tamanho 5\n",
    "array = np.random.randint(0,5, 100)\n",
    "\n",
    "media_movel_s = sliding_window_view(array, window_shape=5).mean(axis=1)\n",
    "media_movel_convolve = np.convolve(array, janela, mode='valid')\n",
    "media_movel_correlate = np.correlate(array, janela, mode='valid')\n",
    "janela, array, media_movel_s, media_movel_convolve, media_movel_correlate"
   ]
  },
  {
   "cell_type": "markdown",
   "id": "1074e2b0",
   "metadata": {},
   "source": [
    "⚡ **Resposta otimizada**  \n",
    "✅ Sua solução já está correta e vetorizada. `sliding_window_view`, `convolve` e `correlate` são todas válidas."
   ]
  },
  {
   "cell_type": "code",
   "execution_count": 22,
   "id": "17bec95d",
   "metadata": {},
   "outputs": [
    {
     "data": {
      "text/plain": [
       "(array([0.2, 0.2, 0.2, 0.2, 0.2]),\n",
       " array([3, 4, 2, 1, 4, 1, 3, 2, 1, 3, 2, 3, 4, 3, 1, 0, 3, 1, 3, 3, 0, 0,\n",
       "        0, 2, 3, 3, 0, 2, 0, 3, 4, 1, 3, 2, 0, 3, 2, 2, 0, 4, 0, 3, 1, 0,\n",
       "        3, 1, 1, 0, 2, 4, 2, 2, 4, 4, 0, 2, 2, 3, 2, 0, 1, 1, 4, 2, 3, 2,\n",
       "        3, 2, 3, 1, 0, 2, 3, 4, 4, 1, 0, 1, 3, 3, 2, 1, 4, 3, 1, 2, 2, 4,\n",
       "        4, 3, 1, 0, 2, 0, 2, 2, 3, 4, 2, 2], dtype=int32),\n",
       " array([2.8, 2.4, 2.2, 2.2, 2.2, 2. , 2.2, 2.2, 2.6, 3. , 2.6, 2.2, 2.2,\n",
       "        1.6, 1.6, 2. , 2. , 1.4, 1.2, 1. , 1. , 1.6, 1.6, 2. , 1.6, 1.6,\n",
       "        1.8, 2. , 2.2, 2.6, 2. , 1.8, 2. , 1.8, 1.4, 2.2, 1.6, 1.8, 1.6,\n",
       "        1.6, 1.4, 1.6, 1.2, 1. , 1.4, 1.6, 1.8, 2. , 2.8, 3.2, 2.4, 2.4,\n",
       "        2.4, 2.2, 1.8, 1.8, 1.6, 1.4, 1.6, 1.6, 2.2, 2.4, 2.8, 2.4, 2.6,\n",
       "        2.2, 1.8, 1.6, 1.8, 2. , 2.6, 2.8, 2.4, 2. , 1.8, 1.6, 1.8, 2. ,\n",
       "        2.6, 2.6, 2.2, 2.2, 2.4, 2.4, 2.6, 3. , 2.8, 2.4, 2. , 1.2, 1. ,\n",
       "        1.2, 1.8, 2.2, 2.6, 2.6]),\n",
       " array([2.8, 2.4, 2.2, 2.2, 2.2, 2. , 2.2, 2.2, 2.6, 3. , 2.6, 2.2, 2.2,\n",
       "        1.6, 1.6, 2. , 2. , 1.4, 1.2, 1. , 1. , 1.6, 1.6, 2. , 1.6, 1.6,\n",
       "        1.8, 2. , 2.2, 2.6, 2. , 1.8, 2. , 1.8, 1.4, 2.2, 1.6, 1.8, 1.6,\n",
       "        1.6, 1.4, 1.6, 1.2, 1. , 1.4, 1.6, 1.8, 2. , 2.8, 3.2, 2.4, 2.4,\n",
       "        2.4, 2.2, 1.8, 1.8, 1.6, 1.4, 1.6, 1.6, 2.2, 2.4, 2.8, 2.4, 2.6,\n",
       "        2.2, 1.8, 1.6, 1.8, 2. , 2.6, 2.8, 2.4, 2. , 1.8, 1.6, 1.8, 2. ,\n",
       "        2.6, 2.6, 2.2, 2.2, 2.4, 2.4, 2.6, 3. , 2.8, 2.4, 2. , 1.2, 1. ,\n",
       "        1.2, 1.8, 2.2, 2.6, 2.6]),\n",
       " array([2.8, 2.4, 2.2, 2.2, 2.2, 2. , 2.2, 2.2, 2.6, 3. , 2.6, 2.2, 2.2,\n",
       "        1.6, 1.6, 2. , 2. , 1.4, 1.2, 1. , 1. , 1.6, 1.6, 2. , 1.6, 1.6,\n",
       "        1.8, 2. , 2.2, 2.6, 2. , 1.8, 2. , 1.8, 1.4, 2.2, 1.6, 1.8, 1.6,\n",
       "        1.6, 1.4, 1.6, 1.2, 1. , 1.4, 1.6, 1.8, 2. , 2.8, 3.2, 2.4, 2.4,\n",
       "        2.4, 2.2, 1.8, 1.8, 1.6, 1.4, 1.6, 1.6, 2.2, 2.4, 2.8, 2.4, 2.6,\n",
       "        2.2, 1.8, 1.6, 1.8, 2. , 2.6, 2.8, 2.4, 2. , 1.8, 1.6, 1.8, 2. ,\n",
       "        2.6, 2.6, 2.2, 2.2, 2.4, 2.4, 2.6, 3. , 2.8, 2.4, 2. , 1.2, 1. ,\n",
       "        1.2, 1.8, 2.2, 2.6, 2.6]))"
      ]
     },
     "execution_count": 22,
     "metadata": {},
     "output_type": "execute_result"
    }
   ],
   "source": [
    "janela = np.ones(5) / 5\n",
    "array = np.random.randint(0,5, 100)\n",
    "media_movel_sliding = sliding_window_view(array, window_shape=5).mean(axis=1)\n",
    "media_movel_convolve = np.convolve(array, janela, mode='valid')\n",
    "media_movel_correlate = np.correlate(array, janela, mode='valid')\n",
    "janela, array, media_movel_sliding, media_movel_convolve, media_movel_correlate"
   ]
  }
 ],
 "metadata": {
  "kernelspec": {
   "display_name": "Python 3",
   "language": "python",
   "name": "python3"
  },
  "language_info": {
   "codemirror_mode": {
    "name": "ipython",
    "version": 3
   },
   "file_extension": ".py",
   "mimetype": "text/x-python",
   "name": "python",
   "nbconvert_exporter": "python",
   "pygments_lexer": "ipython3",
   "version": "3.13.5"
  }
 },
 "nbformat": 4,
 "nbformat_minor": 5
}
